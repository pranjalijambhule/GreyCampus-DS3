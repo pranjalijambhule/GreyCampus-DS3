{
 "cells": [
  {
   "cell_type": "markdown",
   "metadata": {},
   "source": [
    "<b> As the excel file is too big, we are converting the file into csv file </b>"
   ]
  },
  {
   "cell_type": "code",
   "execution_count": 1,
   "metadata": {},
   "outputs": [],
   "source": [
    "import pandas as pd\n",
    "import time"
   ]
  },
  {
   "cell_type": "code",
   "execution_count": 2,
   "metadata": {},
   "outputs": [],
   "source": [
    "# start = time.time()\n",
    "# df = pd.concat(pd.read_excel(r\"C:\\sovi\\Data Science\\Python\\week9\\assignment\\data.xlsx\", sheet_name=None), ignore_index=True)\n",
    "\n",
    "# end = time.time()\n",
    "# print(\"Time needed to read excel file is\", str(time.strftime('%M:%S', time.gmtime(end-start))))\n",
    "\n"
   ]
  },
  {
   "cell_type": "code",
   "execution_count": 3,
   "metadata": {},
   "outputs": [],
   "source": [
    "#df1 = pd.DataFrame(df)\n",
    "# saving the csv file in my computer\n",
    "#df1.to_csv('data.csv')"
   ]
  },
  {
   "cell_type": "markdown",
   "metadata": {},
   "source": [
    "<b> Now, reading the csv file </b>"
   ]
  },
  {
   "cell_type": "code",
   "execution_count": 54,
   "metadata": {},
   "outputs": [
    {
     "name": "stdout",
     "output_type": "stream",
     "text": [
      "Time needed to read excel file is 00:08\n"
     ]
    }
   ],
   "source": [
    "start = time.time()\n",
    "df = pd.read_csv(\"C:/sovi/Data Science/Python/week9/assignment/data.csv\")\n",
    "end = time.time()\n",
    "print(\"Time needed to read excel file is\", str(time.strftime('%M:%S', time.gmtime(end-start))))\n"
   ]
  },
  {
   "cell_type": "code",
   "execution_count": 5,
   "metadata": {},
   "outputs": [
    {
     "data": {
      "text/html": [
       "<div>\n",
       "<style scoped>\n",
       "    .dataframe tbody tr th:only-of-type {\n",
       "        vertical-align: middle;\n",
       "    }\n",
       "\n",
       "    .dataframe tbody tr th {\n",
       "        vertical-align: top;\n",
       "    }\n",
       "\n",
       "    .dataframe thead th {\n",
       "        text-align: right;\n",
       "    }\n",
       "</style>\n",
       "<table border=\"1\" class=\"dataframe\">\n",
       "  <thead>\n",
       "    <tr style=\"text-align: right;\">\n",
       "      <th></th>\n",
       "      <th>Unnamed: 0</th>\n",
       "      <th>category</th>\n",
       "      <th>manufacturer</th>\n",
       "      <th>part_number</th>\n",
       "      <th>sku</th>\n",
       "      <th>alt_sku</th>\n",
       "      <th>description</th>\n",
       "      <th>status</th>\n",
       "      <th>qty</th>\n",
       "      <th>price</th>\n",
       "      <th>sku_create_date</th>\n",
       "    </tr>\n",
       "  </thead>\n",
       "  <tbody>\n",
       "    <tr>\n",
       "      <th>0</th>\n",
       "      <td>0</td>\n",
       "      <td>1539</td>\n",
       "      <td>MS-OPEN VALUE SUBSCRIPTION</td>\n",
       "      <td>021-09108</td>\n",
       "      <td>BA0011</td>\n",
       "      <td>NaN</td>\n",
       "      <td>1YR OFFICESTD ALNG LICSAPK OLV, D AP</td>\n",
       "      <td>No Stock</td>\n",
       "      <td>0</td>\n",
       "      <td>143.58</td>\n",
       "      <td>2020-08-17</td>\n",
       "    </tr>\n",
       "    <tr>\n",
       "      <th>1</th>\n",
       "      <td>1</td>\n",
       "      <td>1539</td>\n",
       "      <td>MS-OPEN VALUE SUBSCRIPTION</td>\n",
       "      <td>059-07014</td>\n",
       "      <td>BA0025</td>\n",
       "      <td>NaN</td>\n",
       "      <td>1YR WORD ALNG LICSAPK OLV D AP,</td>\n",
       "      <td>No Stock</td>\n",
       "      <td>0</td>\n",
       "      <td>56.09</td>\n",
       "      <td>2020-08-17</td>\n",
       "    </tr>\n",
       "    <tr>\n",
       "      <th>2</th>\n",
       "      <td>2</td>\n",
       "      <td>1539</td>\n",
       "      <td>MS-OPEN VALUE SUBSCRIPTION</td>\n",
       "      <td>065-06444</td>\n",
       "      <td>BA0039</td>\n",
       "      <td>NaN</td>\n",
       "      <td>1YR EXCEL ALNG LICSAPK OLV D AP,</td>\n",
       "      <td>No Stock</td>\n",
       "      <td>0</td>\n",
       "      <td>56.09</td>\n",
       "      <td>2020-08-17</td>\n",
       "    </tr>\n",
       "    <tr>\n",
       "      <th>3</th>\n",
       "      <td>3</td>\n",
       "      <td>1539</td>\n",
       "      <td>MS-OPEN VALUE SUBSCRIPTION</td>\n",
       "      <td>076-04355</td>\n",
       "      <td>BA0067</td>\n",
       "      <td>NaN</td>\n",
       "      <td>1YR PRJCT ALNG LICSAPK OLV D AP,</td>\n",
       "      <td>No Stock</td>\n",
       "      <td>0</td>\n",
       "      <td>217.60</td>\n",
       "      <td>2020-08-17</td>\n",
       "    </tr>\n",
       "    <tr>\n",
       "      <th>4</th>\n",
       "      <td>4</td>\n",
       "      <td>1582</td>\n",
       "      <td>MS-OPEN VALUE SUBSCRIPTION</td>\n",
       "      <td>077-05318</td>\n",
       "      <td>BA0080</td>\n",
       "      <td>NaN</td>\n",
       "      <td>1YR ACCESS ALNG LICSAPK OLV D, AP</td>\n",
       "      <td>No Stock</td>\n",
       "      <td>0</td>\n",
       "      <td>56.09</td>\n",
       "      <td>2020-08-17</td>\n",
       "    </tr>\n",
       "    <tr>\n",
       "      <th>...</th>\n",
       "      <td>...</td>\n",
       "      <td>...</td>\n",
       "      <td>...</td>\n",
       "      <td>...</td>\n",
       "      <td>...</td>\n",
       "      <td>...</td>\n",
       "      <td>...</td>\n",
       "      <td>...</td>\n",
       "      <td>...</td>\n",
       "      <td>...</td>\n",
       "      <td>...</td>\n",
       "    </tr>\n",
       "    <tr>\n",
       "      <th>2627921</th>\n",
       "      <td>2627921</td>\n",
       "      <td>9945</td>\n",
       "      <td>VERBATIM CORPORATION</td>\n",
       "      <td>93975</td>\n",
       "      <td>986034</td>\n",
       "      <td>NaN</td>\n",
       "      <td>CD &amp; DVD TRIMPAK CASES 200PK, CLEAR FLEXIBLE P...</td>\n",
       "      <td>In Stock</td>\n",
       "      <td>12</td>\n",
       "      <td>50.53</td>\n",
       "      <td>2020-08-28</td>\n",
       "    </tr>\n",
       "    <tr>\n",
       "      <th>2627922</th>\n",
       "      <td>2627922</td>\n",
       "      <td>9945</td>\n",
       "      <td>VERBATIM CORPORATION</td>\n",
       "      <td>93975</td>\n",
       "      <td>986034</td>\n",
       "      <td>NaN</td>\n",
       "      <td>CD &amp; DVD TRIMPAK CASES 200PK, CLEAR FLEXIBLE P...</td>\n",
       "      <td>In Stock</td>\n",
       "      <td>12</td>\n",
       "      <td>50.53</td>\n",
       "      <td>2020-08-28</td>\n",
       "    </tr>\n",
       "    <tr>\n",
       "      <th>2627923</th>\n",
       "      <td>2627923</td>\n",
       "      <td>9945</td>\n",
       "      <td>VERBATIM CORPORATION</td>\n",
       "      <td>93975</td>\n",
       "      <td>986034</td>\n",
       "      <td>NaN</td>\n",
       "      <td>CD &amp; DVD TRIMPAK CASES 200PK, CLEAR FLEXIBLE P...</td>\n",
       "      <td>In Stock</td>\n",
       "      <td>12</td>\n",
       "      <td>50.53</td>\n",
       "      <td>2020-08-28</td>\n",
       "    </tr>\n",
       "    <tr>\n",
       "      <th>2627924</th>\n",
       "      <td>2627924</td>\n",
       "      <td>9945</td>\n",
       "      <td>VERBATIM CORPORATION</td>\n",
       "      <td>93975</td>\n",
       "      <td>986034</td>\n",
       "      <td>NaN</td>\n",
       "      <td>CD &amp; DVD TRIMPAK CASES 200PK, CLEAR FLEXIBLE P...</td>\n",
       "      <td>In Stock</td>\n",
       "      <td>12</td>\n",
       "      <td>50.53</td>\n",
       "      <td>2020-08-28</td>\n",
       "    </tr>\n",
       "    <tr>\n",
       "      <th>2627925</th>\n",
       "      <td>2627925</td>\n",
       "      <td>9945</td>\n",
       "      <td>VERBATIM CORPORATION</td>\n",
       "      <td>93975</td>\n",
       "      <td>986034</td>\n",
       "      <td>NaN</td>\n",
       "      <td>CD &amp; DVD TRIMPAK CASES 200PK, CLEAR FLEXIBLE P...</td>\n",
       "      <td>In Stock</td>\n",
       "      <td>12</td>\n",
       "      <td>50.53</td>\n",
       "      <td>2020-08-28</td>\n",
       "    </tr>\n",
       "  </tbody>\n",
       "</table>\n",
       "<p>2627926 rows × 11 columns</p>\n",
       "</div>"
      ],
      "text/plain": [
       "         Unnamed: 0  category                manufacturer part_number     sku  \\\n",
       "0                 0      1539  MS-OPEN VALUE SUBSCRIPTION   021-09108  BA0011   \n",
       "1                 1      1539  MS-OPEN VALUE SUBSCRIPTION   059-07014  BA0025   \n",
       "2                 2      1539  MS-OPEN VALUE SUBSCRIPTION   065-06444  BA0039   \n",
       "3                 3      1539  MS-OPEN VALUE SUBSCRIPTION   076-04355  BA0067   \n",
       "4                 4      1582  MS-OPEN VALUE SUBSCRIPTION   077-05318  BA0080   \n",
       "...             ...       ...                         ...         ...     ...   \n",
       "2627921     2627921      9945        VERBATIM CORPORATION       93975  986034   \n",
       "2627922     2627922      9945        VERBATIM CORPORATION       93975  986034   \n",
       "2627923     2627923      9945        VERBATIM CORPORATION       93975  986034   \n",
       "2627924     2627924      9945        VERBATIM CORPORATION       93975  986034   \n",
       "2627925     2627925      9945        VERBATIM CORPORATION       93975  986034   \n",
       "\n",
       "        alt_sku                                        description    status  \\\n",
       "0           NaN               1YR OFFICESTD ALNG LICSAPK OLV, D AP  No Stock   \n",
       "1           NaN                    1YR WORD ALNG LICSAPK OLV D AP,  No Stock   \n",
       "2           NaN                   1YR EXCEL ALNG LICSAPK OLV D AP,  No Stock   \n",
       "3           NaN                   1YR PRJCT ALNG LICSAPK OLV D AP,  No Stock   \n",
       "4           NaN                  1YR ACCESS ALNG LICSAPK OLV D, AP  No Stock   \n",
       "...         ...                                                ...       ...   \n",
       "2627921     NaN  CD & DVD TRIMPAK CASES 200PK, CLEAR FLEXIBLE P...  In Stock   \n",
       "2627922     NaN  CD & DVD TRIMPAK CASES 200PK, CLEAR FLEXIBLE P...  In Stock   \n",
       "2627923     NaN  CD & DVD TRIMPAK CASES 200PK, CLEAR FLEXIBLE P...  In Stock   \n",
       "2627924     NaN  CD & DVD TRIMPAK CASES 200PK, CLEAR FLEXIBLE P...  In Stock   \n",
       "2627925     NaN  CD & DVD TRIMPAK CASES 200PK, CLEAR FLEXIBLE P...  In Stock   \n",
       "\n",
       "         qty   price sku_create_date  \n",
       "0          0  143.58      2020-08-17  \n",
       "1          0   56.09      2020-08-17  \n",
       "2          0   56.09      2020-08-17  \n",
       "3          0  217.60      2020-08-17  \n",
       "4          0   56.09      2020-08-17  \n",
       "...      ...     ...             ...  \n",
       "2627921   12   50.53      2020-08-28  \n",
       "2627922   12   50.53      2020-08-28  \n",
       "2627923   12   50.53      2020-08-28  \n",
       "2627924   12   50.53      2020-08-28  \n",
       "2627925   12   50.53      2020-08-28  \n",
       "\n",
       "[2627926 rows x 11 columns]"
      ]
     },
     "execution_count": 5,
     "metadata": {},
     "output_type": "execute_result"
    }
   ],
   "source": [
    "df"
   ]
  },
  {
   "cell_type": "code",
   "execution_count": 6,
   "metadata": {},
   "outputs": [
    {
     "data": {
      "text/html": [
       "<div>\n",
       "<style scoped>\n",
       "    .dataframe tbody tr th:only-of-type {\n",
       "        vertical-align: middle;\n",
       "    }\n",
       "\n",
       "    .dataframe tbody tr th {\n",
       "        vertical-align: top;\n",
       "    }\n",
       "\n",
       "    .dataframe thead th {\n",
       "        text-align: right;\n",
       "    }\n",
       "</style>\n",
       "<table border=\"1\" class=\"dataframe\">\n",
       "  <thead>\n",
       "    <tr style=\"text-align: right;\">\n",
       "      <th></th>\n",
       "      <th>category</th>\n",
       "      <th>manufacturer</th>\n",
       "      <th>part_number</th>\n",
       "      <th>sku</th>\n",
       "      <th>alt_sku</th>\n",
       "      <th>description</th>\n",
       "      <th>status</th>\n",
       "      <th>qty</th>\n",
       "      <th>price</th>\n",
       "      <th>sku_create_date</th>\n",
       "    </tr>\n",
       "  </thead>\n",
       "  <tbody>\n",
       "    <tr>\n",
       "      <th>0</th>\n",
       "      <td>1539</td>\n",
       "      <td>MS-OPEN VALUE SUBSCRIPTION</td>\n",
       "      <td>021-09108</td>\n",
       "      <td>BA0011</td>\n",
       "      <td>NaN</td>\n",
       "      <td>1YR OFFICESTD ALNG LICSAPK OLV, D AP</td>\n",
       "      <td>No Stock</td>\n",
       "      <td>0</td>\n",
       "      <td>143.58</td>\n",
       "      <td>2020-08-17</td>\n",
       "    </tr>\n",
       "    <tr>\n",
       "      <th>1</th>\n",
       "      <td>1539</td>\n",
       "      <td>MS-OPEN VALUE SUBSCRIPTION</td>\n",
       "      <td>059-07014</td>\n",
       "      <td>BA0025</td>\n",
       "      <td>NaN</td>\n",
       "      <td>1YR WORD ALNG LICSAPK OLV D AP,</td>\n",
       "      <td>No Stock</td>\n",
       "      <td>0</td>\n",
       "      <td>56.09</td>\n",
       "      <td>2020-08-17</td>\n",
       "    </tr>\n",
       "    <tr>\n",
       "      <th>2</th>\n",
       "      <td>1539</td>\n",
       "      <td>MS-OPEN VALUE SUBSCRIPTION</td>\n",
       "      <td>065-06444</td>\n",
       "      <td>BA0039</td>\n",
       "      <td>NaN</td>\n",
       "      <td>1YR EXCEL ALNG LICSAPK OLV D AP,</td>\n",
       "      <td>No Stock</td>\n",
       "      <td>0</td>\n",
       "      <td>56.09</td>\n",
       "      <td>2020-08-17</td>\n",
       "    </tr>\n",
       "    <tr>\n",
       "      <th>3</th>\n",
       "      <td>1539</td>\n",
       "      <td>MS-OPEN VALUE SUBSCRIPTION</td>\n",
       "      <td>076-04355</td>\n",
       "      <td>BA0067</td>\n",
       "      <td>NaN</td>\n",
       "      <td>1YR PRJCT ALNG LICSAPK OLV D AP,</td>\n",
       "      <td>No Stock</td>\n",
       "      <td>0</td>\n",
       "      <td>217.60</td>\n",
       "      <td>2020-08-17</td>\n",
       "    </tr>\n",
       "    <tr>\n",
       "      <th>4</th>\n",
       "      <td>1582</td>\n",
       "      <td>MS-OPEN VALUE SUBSCRIPTION</td>\n",
       "      <td>077-05318</td>\n",
       "      <td>BA0080</td>\n",
       "      <td>NaN</td>\n",
       "      <td>1YR ACCESS ALNG LICSAPK OLV D, AP</td>\n",
       "      <td>No Stock</td>\n",
       "      <td>0</td>\n",
       "      <td>56.09</td>\n",
       "      <td>2020-08-17</td>\n",
       "    </tr>\n",
       "    <tr>\n",
       "      <th>...</th>\n",
       "      <td>...</td>\n",
       "      <td>...</td>\n",
       "      <td>...</td>\n",
       "      <td>...</td>\n",
       "      <td>...</td>\n",
       "      <td>...</td>\n",
       "      <td>...</td>\n",
       "      <td>...</td>\n",
       "      <td>...</td>\n",
       "      <td>...</td>\n",
       "    </tr>\n",
       "    <tr>\n",
       "      <th>2627921</th>\n",
       "      <td>9945</td>\n",
       "      <td>VERBATIM CORPORATION</td>\n",
       "      <td>93975</td>\n",
       "      <td>986034</td>\n",
       "      <td>NaN</td>\n",
       "      <td>CD &amp; DVD TRIMPAK CASES 200PK, CLEAR FLEXIBLE P...</td>\n",
       "      <td>In Stock</td>\n",
       "      <td>12</td>\n",
       "      <td>50.53</td>\n",
       "      <td>2020-08-28</td>\n",
       "    </tr>\n",
       "    <tr>\n",
       "      <th>2627922</th>\n",
       "      <td>9945</td>\n",
       "      <td>VERBATIM CORPORATION</td>\n",
       "      <td>93975</td>\n",
       "      <td>986034</td>\n",
       "      <td>NaN</td>\n",
       "      <td>CD &amp; DVD TRIMPAK CASES 200PK, CLEAR FLEXIBLE P...</td>\n",
       "      <td>In Stock</td>\n",
       "      <td>12</td>\n",
       "      <td>50.53</td>\n",
       "      <td>2020-08-28</td>\n",
       "    </tr>\n",
       "    <tr>\n",
       "      <th>2627923</th>\n",
       "      <td>9945</td>\n",
       "      <td>VERBATIM CORPORATION</td>\n",
       "      <td>93975</td>\n",
       "      <td>986034</td>\n",
       "      <td>NaN</td>\n",
       "      <td>CD &amp; DVD TRIMPAK CASES 200PK, CLEAR FLEXIBLE P...</td>\n",
       "      <td>In Stock</td>\n",
       "      <td>12</td>\n",
       "      <td>50.53</td>\n",
       "      <td>2020-08-28</td>\n",
       "    </tr>\n",
       "    <tr>\n",
       "      <th>2627924</th>\n",
       "      <td>9945</td>\n",
       "      <td>VERBATIM CORPORATION</td>\n",
       "      <td>93975</td>\n",
       "      <td>986034</td>\n",
       "      <td>NaN</td>\n",
       "      <td>CD &amp; DVD TRIMPAK CASES 200PK, CLEAR FLEXIBLE P...</td>\n",
       "      <td>In Stock</td>\n",
       "      <td>12</td>\n",
       "      <td>50.53</td>\n",
       "      <td>2020-08-28</td>\n",
       "    </tr>\n",
       "    <tr>\n",
       "      <th>2627925</th>\n",
       "      <td>9945</td>\n",
       "      <td>VERBATIM CORPORATION</td>\n",
       "      <td>93975</td>\n",
       "      <td>986034</td>\n",
       "      <td>NaN</td>\n",
       "      <td>CD &amp; DVD TRIMPAK CASES 200PK, CLEAR FLEXIBLE P...</td>\n",
       "      <td>In Stock</td>\n",
       "      <td>12</td>\n",
       "      <td>50.53</td>\n",
       "      <td>2020-08-28</td>\n",
       "    </tr>\n",
       "  </tbody>\n",
       "</table>\n",
       "<p>2627926 rows × 10 columns</p>\n",
       "</div>"
      ],
      "text/plain": [
       "         category                manufacturer part_number     sku alt_sku  \\\n",
       "0            1539  MS-OPEN VALUE SUBSCRIPTION   021-09108  BA0011     NaN   \n",
       "1            1539  MS-OPEN VALUE SUBSCRIPTION   059-07014  BA0025     NaN   \n",
       "2            1539  MS-OPEN VALUE SUBSCRIPTION   065-06444  BA0039     NaN   \n",
       "3            1539  MS-OPEN VALUE SUBSCRIPTION   076-04355  BA0067     NaN   \n",
       "4            1582  MS-OPEN VALUE SUBSCRIPTION   077-05318  BA0080     NaN   \n",
       "...           ...                         ...         ...     ...     ...   \n",
       "2627921      9945        VERBATIM CORPORATION       93975  986034     NaN   \n",
       "2627922      9945        VERBATIM CORPORATION       93975  986034     NaN   \n",
       "2627923      9945        VERBATIM CORPORATION       93975  986034     NaN   \n",
       "2627924      9945        VERBATIM CORPORATION       93975  986034     NaN   \n",
       "2627925      9945        VERBATIM CORPORATION       93975  986034     NaN   \n",
       "\n",
       "                                               description    status  qty  \\\n",
       "0                     1YR OFFICESTD ALNG LICSAPK OLV, D AP  No Stock    0   \n",
       "1                          1YR WORD ALNG LICSAPK OLV D AP,  No Stock    0   \n",
       "2                         1YR EXCEL ALNG LICSAPK OLV D AP,  No Stock    0   \n",
       "3                         1YR PRJCT ALNG LICSAPK OLV D AP,  No Stock    0   \n",
       "4                        1YR ACCESS ALNG LICSAPK OLV D, AP  No Stock    0   \n",
       "...                                                    ...       ...  ...   \n",
       "2627921  CD & DVD TRIMPAK CASES 200PK, CLEAR FLEXIBLE P...  In Stock   12   \n",
       "2627922  CD & DVD TRIMPAK CASES 200PK, CLEAR FLEXIBLE P...  In Stock   12   \n",
       "2627923  CD & DVD TRIMPAK CASES 200PK, CLEAR FLEXIBLE P...  In Stock   12   \n",
       "2627924  CD & DVD TRIMPAK CASES 200PK, CLEAR FLEXIBLE P...  In Stock   12   \n",
       "2627925  CD & DVD TRIMPAK CASES 200PK, CLEAR FLEXIBLE P...  In Stock   12   \n",
       "\n",
       "          price sku_create_date  \n",
       "0        143.58      2020-08-17  \n",
       "1         56.09      2020-08-17  \n",
       "2         56.09      2020-08-17  \n",
       "3        217.60      2020-08-17  \n",
       "4         56.09      2020-08-17  \n",
       "...         ...             ...  \n",
       "2627921   50.53      2020-08-28  \n",
       "2627922   50.53      2020-08-28  \n",
       "2627923   50.53      2020-08-28  \n",
       "2627924   50.53      2020-08-28  \n",
       "2627925   50.53      2020-08-28  \n",
       "\n",
       "[2627926 rows x 10 columns]"
      ]
     },
     "execution_count": 6,
     "metadata": {},
     "output_type": "execute_result"
    }
   ],
   "source": [
    "# removing the first column\n",
    "\n",
    "#df = df.rename(columns = {'Unnamed: 0' : 'Index'})\n",
    "\n",
    "df = df.drop(columns = ['Unnamed: 0'])\n",
    "df"
   ]
  },
  {
   "cell_type": "code",
   "execution_count": 55,
   "metadata": {},
   "outputs": [],
   "source": [
    "# removing duplicate rows\n",
    "df.drop_duplicates(subset=['category', 'manufacturer', 'part_number', 'sku', 'alt_sku', 'description', 'status', 'qty', 'price', 'sku_create_date'], keep=False, inplace=True)\n"
   ]
  },
  {
   "cell_type": "code",
   "execution_count": 8,
   "metadata": {},
   "outputs": [
    {
     "data": {
      "text/html": [
       "<div>\n",
       "<style scoped>\n",
       "    .dataframe tbody tr th:only-of-type {\n",
       "        vertical-align: middle;\n",
       "    }\n",
       "\n",
       "    .dataframe tbody tr th {\n",
       "        vertical-align: top;\n",
       "    }\n",
       "\n",
       "    .dataframe thead th {\n",
       "        text-align: right;\n",
       "    }\n",
       "</style>\n",
       "<table border=\"1\" class=\"dataframe\">\n",
       "  <thead>\n",
       "    <tr style=\"text-align: right;\">\n",
       "      <th></th>\n",
       "      <th>category</th>\n",
       "      <th>manufacturer</th>\n",
       "      <th>part_number</th>\n",
       "      <th>sku</th>\n",
       "      <th>alt_sku</th>\n",
       "      <th>description</th>\n",
       "      <th>status</th>\n",
       "      <th>qty</th>\n",
       "      <th>price</th>\n",
       "      <th>sku_create_date</th>\n",
       "    </tr>\n",
       "  </thead>\n",
       "  <tbody>\n",
       "  </tbody>\n",
       "</table>\n",
       "</div>"
      ],
      "text/plain": [
       "Empty DataFrame\n",
       "Columns: [category, manufacturer, part_number, sku, alt_sku, description, status, qty, price, sku_create_date]\n",
       "Index: []"
      ]
     },
     "execution_count": 8,
     "metadata": {},
     "output_type": "execute_result"
    }
   ],
   "source": [
    "# checking if any of the row exists\n",
    "df.iloc[2627916:2627924,]"
   ]
  },
  {
   "cell_type": "markdown",
   "metadata": {},
   "source": [
    "# "
   ]
  },
  {
   "cell_type": "markdown",
   "metadata": {},
   "source": [
    "<b>\n",
    "    -----------------------------------------------------------------------------------------------------------------------------------------------------------------------------------------------------------------\n",
    "</b>"
   ]
  },
  {
   "cell_type": "markdown",
   "metadata": {},
   "source": [
    "# For data \"In Stock\" "
   ]
  },
  {
   "cell_type": "markdown",
   "metadata": {},
   "source": [
    "\n"
   ]
  },
  {
   "cell_type": "markdown",
   "metadata": {},
   "source": [
    "# "
   ]
  },
  {
   "cell_type": "markdown",
   "metadata": {},
   "source": [
    "\n",
    "<b> Question 1. Which are the top Manufacturers with price, quantity.\n",
    "</b>"
   ]
  },
  {
   "cell_type": "markdown",
   "metadata": {},
   "source": [
    "\n"
   ]
  },
  {
   "cell_type": "markdown",
   "metadata": {},
   "source": [
    "<b>\n",
    "Answer- </b>"
   ]
  },
  {
   "cell_type": "code",
   "execution_count": 56,
   "metadata": {},
   "outputs": [],
   "source": [
    "# filtering products that does have stock available\n",
    "df1 = df[df[\"status\"] != \"No Stock\"]"
   ]
  },
  {
   "cell_type": "code",
   "execution_count": 10,
   "metadata": {},
   "outputs": [
    {
     "data": {
      "text/html": [
       "<div>\n",
       "<style scoped>\n",
       "    .dataframe tbody tr th:only-of-type {\n",
       "        vertical-align: middle;\n",
       "    }\n",
       "\n",
       "    .dataframe tbody tr th {\n",
       "        vertical-align: top;\n",
       "    }\n",
       "\n",
       "    .dataframe thead th {\n",
       "        text-align: right;\n",
       "    }\n",
       "</style>\n",
       "<table border=\"1\" class=\"dataframe\">\n",
       "  <thead>\n",
       "    <tr style=\"text-align: right;\">\n",
       "      <th></th>\n",
       "      <th>category</th>\n",
       "      <th>manufacturer</th>\n",
       "      <th>part_number</th>\n",
       "      <th>sku</th>\n",
       "      <th>alt_sku</th>\n",
       "      <th>description</th>\n",
       "      <th>status</th>\n",
       "      <th>qty</th>\n",
       "      <th>price</th>\n",
       "      <th>sku_create_date</th>\n",
       "    </tr>\n",
       "  </thead>\n",
       "  <tbody>\n",
       "    <tr>\n",
       "      <th>1199874</th>\n",
       "      <td>521</td>\n",
       "      <td>HPE - SWITCHING</td>\n",
       "      <td>JL376A#B2B</td>\n",
       "      <td>6RN996</td>\n",
       "      <td>NaN</td>\n",
       "      <td>ARUBA 8400 1 MM 3 PS 2 FM 32/8, BDL JMPCBL-NA/...</td>\n",
       "      <td>In Stock</td>\n",
       "      <td>3</td>\n",
       "      <td>69729.03</td>\n",
       "      <td>2020-08-20</td>\n",
       "    </tr>\n",
       "    <tr>\n",
       "      <th>2620934</th>\n",
       "      <td>295</td>\n",
       "      <td>HPE - NIMBLE BTO</td>\n",
       "      <td>R3S72A</td>\n",
       "      <td>7JQ609</td>\n",
       "      <td>NaN</td>\n",
       "      <td>HPE NS AF20 ALL FLASH 23TB BDL, 1 OR 3 YR SUPP...</td>\n",
       "      <td>In Stock</td>\n",
       "      <td>3</td>\n",
       "      <td>40893.99</td>\n",
       "      <td>2020-08-28</td>\n",
       "    </tr>\n",
       "    <tr>\n",
       "      <th>2571702</th>\n",
       "      <td>295</td>\n",
       "      <td>HPE - NIMBLE BTO</td>\n",
       "      <td>R3S72A</td>\n",
       "      <td>7JQ609</td>\n",
       "      <td>NaN</td>\n",
       "      <td>HPE NS AF20 ALL FLASH 23TB BDL, 1 OR 3 YR SUPP...</td>\n",
       "      <td>In Stock</td>\n",
       "      <td>2</td>\n",
       "      <td>40893.99</td>\n",
       "      <td>2020-08-27</td>\n",
       "    </tr>\n",
       "    <tr>\n",
       "      <th>1203979</th>\n",
       "      <td>505</td>\n",
       "      <td>HPE - ARUBA INSTANT</td>\n",
       "      <td>JW830A</td>\n",
       "      <td>7U5737</td>\n",
       "      <td>NaN</td>\n",
       "      <td>ARUBA 7240XM US FIPS/TAA, CONTROLLER PL=VL</td>\n",
       "      <td>In Stock</td>\n",
       "      <td>1</td>\n",
       "      <td>35554.13</td>\n",
       "      <td>2020-08-20</td>\n",
       "    </tr>\n",
       "    <tr>\n",
       "      <th>1203946</th>\n",
       "      <td>505</td>\n",
       "      <td>HPE - ARUBA INSTANT</td>\n",
       "      <td>JW675A</td>\n",
       "      <td>7U4379</td>\n",
       "      <td>NaN</td>\n",
       "      <td>7240XMDC CONTROLLER, PL=VL</td>\n",
       "      <td>In Stock</td>\n",
       "      <td>3</td>\n",
       "      <td>29385.55</td>\n",
       "      <td>2020-08-20</td>\n",
       "    </tr>\n",
       "  </tbody>\n",
       "</table>\n",
       "</div>"
      ],
      "text/plain": [
       "         category         manufacturer part_number     sku alt_sku  \\\n",
       "1199874       521      HPE - SWITCHING  JL376A#B2B  6RN996     NaN   \n",
       "2620934       295     HPE - NIMBLE BTO      R3S72A  7JQ609     NaN   \n",
       "2571702       295     HPE - NIMBLE BTO      R3S72A  7JQ609     NaN   \n",
       "1203979       505  HPE - ARUBA INSTANT      JW830A  7U5737     NaN   \n",
       "1203946       505  HPE - ARUBA INSTANT      JW675A  7U4379     NaN   \n",
       "\n",
       "                                               description    status  qty  \\\n",
       "1199874  ARUBA 8400 1 MM 3 PS 2 FM 32/8, BDL JMPCBL-NA/...  In Stock    3   \n",
       "2620934  HPE NS AF20 ALL FLASH 23TB BDL, 1 OR 3 YR SUPP...  In Stock    3   \n",
       "2571702  HPE NS AF20 ALL FLASH 23TB BDL, 1 OR 3 YR SUPP...  In Stock    2   \n",
       "1203979         ARUBA 7240XM US FIPS/TAA, CONTROLLER PL=VL  In Stock    1   \n",
       "1203946                         7240XMDC CONTROLLER, PL=VL  In Stock    3   \n",
       "\n",
       "            price sku_create_date  \n",
       "1199874  69729.03      2020-08-20  \n",
       "2620934  40893.99      2020-08-28  \n",
       "2571702  40893.99      2020-08-27  \n",
       "1203979  35554.13      2020-08-20  \n",
       "1203946  29385.55      2020-08-20  "
      ]
     },
     "execution_count": 10,
     "metadata": {},
     "output_type": "execute_result"
    }
   ],
   "source": [
    "# Top manufacturers with price\n",
    "\n",
    "top_price = df1.sort_values(by = 'price', ascending = False).head(5)\n",
    "top_price\n"
   ]
  },
  {
   "cell_type": "code",
   "execution_count": 11,
   "metadata": {},
   "outputs": [
    {
     "data": {
      "text/html": [
       "<div>\n",
       "<style scoped>\n",
       "    .dataframe tbody tr th:only-of-type {\n",
       "        vertical-align: middle;\n",
       "    }\n",
       "\n",
       "    .dataframe tbody tr th {\n",
       "        vertical-align: top;\n",
       "    }\n",
       "\n",
       "    .dataframe thead th {\n",
       "        text-align: right;\n",
       "    }\n",
       "</style>\n",
       "<table border=\"1\" class=\"dataframe\">\n",
       "  <thead>\n",
       "    <tr style=\"text-align: right;\">\n",
       "      <th></th>\n",
       "      <th>category</th>\n",
       "      <th>manufacturer</th>\n",
       "      <th>part_number</th>\n",
       "      <th>sku</th>\n",
       "      <th>alt_sku</th>\n",
       "      <th>description</th>\n",
       "      <th>status</th>\n",
       "      <th>qty</th>\n",
       "      <th>price</th>\n",
       "      <th>sku_create_date</th>\n",
       "    </tr>\n",
       "  </thead>\n",
       "  <tbody>\n",
       "    <tr>\n",
       "      <th>2364017</th>\n",
       "      <td>1221</td>\n",
       "      <td>DELL CSG SERVICE WARRANTIES</td>\n",
       "      <td>808-3177</td>\n",
       "      <td>4A1885</td>\n",
       "      <td>NaN</td>\n",
       "      <td>3YR NBD TO 3YR PROSUP NBD, OPTIPLEX</td>\n",
       "      <td>In Stock</td>\n",
       "      <td>60063</td>\n",
       "      <td>38.76</td>\n",
       "      <td>2020-08-25</td>\n",
       "    </tr>\n",
       "    <tr>\n",
       "      <th>1135792</th>\n",
       "      <td>1221</td>\n",
       "      <td>DELL CSG SERVICE WARRANTIES</td>\n",
       "      <td>808-3123</td>\n",
       "      <td>4A1836</td>\n",
       "      <td>NaN</td>\n",
       "      <td>1YR HW SVC WITH IN-HOME/OS SVC, AFTER REM DIAG...</td>\n",
       "      <td>In Stock</td>\n",
       "      <td>60018</td>\n",
       "      <td>129.96</td>\n",
       "      <td>2020-08-19</td>\n",
       "    </tr>\n",
       "    <tr>\n",
       "      <th>2609950</th>\n",
       "      <td>1221</td>\n",
       "      <td>DELL CSG SERVICE WARRANTIES</td>\n",
       "      <td>808-3108</td>\n",
       "      <td>4A1821</td>\n",
       "      <td>NaN</td>\n",
       "      <td>1YR HW SVC WITH IN-HOME/OS SVC, AFTER REM DIAG...</td>\n",
       "      <td>In Stock</td>\n",
       "      <td>60014</td>\n",
       "      <td>136.42</td>\n",
       "      <td>2020-08-28</td>\n",
       "    </tr>\n",
       "    <tr>\n",
       "      <th>1245234</th>\n",
       "      <td>1221</td>\n",
       "      <td>DELL CSG SERVICE WARRANTIES</td>\n",
       "      <td>808-3105</td>\n",
       "      <td>4A1818</td>\n",
       "      <td>NaN</td>\n",
       "      <td>1YR HW SVC WITH IN-HOME/OS SVC, AFTER REM DIAG...</td>\n",
       "      <td>In Stock</td>\n",
       "      <td>60005</td>\n",
       "      <td>84.24</td>\n",
       "      <td>2020-08-21</td>\n",
       "    </tr>\n",
       "    <tr>\n",
       "      <th>2558454</th>\n",
       "      <td>1221</td>\n",
       "      <td>DELL CSG SERVICE WARRANTIES</td>\n",
       "      <td>808-3105</td>\n",
       "      <td>4A1818</td>\n",
       "      <td>NaN</td>\n",
       "      <td>1YR HW SVC WITH IN-HOME/OS SVC, AFTER REM DIAG...</td>\n",
       "      <td>In Stock</td>\n",
       "      <td>60004</td>\n",
       "      <td>84.06</td>\n",
       "      <td>2020-08-27</td>\n",
       "    </tr>\n",
       "  </tbody>\n",
       "</table>\n",
       "</div>"
      ],
      "text/plain": [
       "         category                 manufacturer part_number     sku alt_sku  \\\n",
       "2364017      1221  DELL CSG SERVICE WARRANTIES    808-3177  4A1885     NaN   \n",
       "1135792      1221  DELL CSG SERVICE WARRANTIES    808-3123  4A1836     NaN   \n",
       "2609950      1221  DELL CSG SERVICE WARRANTIES    808-3108  4A1821     NaN   \n",
       "1245234      1221  DELL CSG SERVICE WARRANTIES    808-3105  4A1818     NaN   \n",
       "2558454      1221  DELL CSG SERVICE WARRANTIES    808-3105  4A1818     NaN   \n",
       "\n",
       "                                               description    status    qty  \\\n",
       "2364017                3YR NBD TO 3YR PROSUP NBD, OPTIPLEX  In Stock  60063   \n",
       "1135792  1YR HW SVC WITH IN-HOME/OS SVC, AFTER REM DIAG...  In Stock  60018   \n",
       "2609950  1YR HW SVC WITH IN-HOME/OS SVC, AFTER REM DIAG...  In Stock  60014   \n",
       "1245234  1YR HW SVC WITH IN-HOME/OS SVC, AFTER REM DIAG...  In Stock  60005   \n",
       "2558454  1YR HW SVC WITH IN-HOME/OS SVC, AFTER REM DIAG...  In Stock  60004   \n",
       "\n",
       "          price sku_create_date  \n",
       "2364017   38.76      2020-08-25  \n",
       "1135792  129.96      2020-08-19  \n",
       "2609950  136.42      2020-08-28  \n",
       "1245234   84.24      2020-08-21  \n",
       "2558454   84.06      2020-08-27  "
      ]
     },
     "execution_count": 11,
     "metadata": {},
     "output_type": "execute_result"
    }
   ],
   "source": [
    "# Top manufacturers with quantity\n",
    "\n",
    "top_qty = df1.sort_values(by = 'qty', ascending = False).head(5)\n",
    "top_qty"
   ]
  },
  {
   "cell_type": "markdown",
   "metadata": {},
   "source": [
    "<b>\n",
    "    -----------------------------------------------------------------------------------------------------------------------------------------------------------------------------------------------------------------\n",
    "</b>"
   ]
  },
  {
   "cell_type": "markdown",
   "metadata": {},
   "source": [
    "\n"
   ]
  },
  {
   "cell_type": "markdown",
   "metadata": {},
   "source": [
    "\n",
    "<b>\n",
    "Question 2. Which are the most profitable products?\n",
    "</b>\n"
   ]
  },
  {
   "cell_type": "markdown",
   "metadata": {},
   "source": [
    "\n"
   ]
  },
  {
   "cell_type": "markdown",
   "metadata": {},
   "source": [
    "<b>\n",
    "Answer - </b>"
   ]
  },
  {
   "cell_type": "code",
   "execution_count": 12,
   "metadata": {},
   "outputs": [
    {
     "data": {
      "text/html": [
       "<div>\n",
       "<style scoped>\n",
       "    .dataframe tbody tr th:only-of-type {\n",
       "        vertical-align: middle;\n",
       "    }\n",
       "\n",
       "    .dataframe tbody tr th {\n",
       "        vertical-align: top;\n",
       "    }\n",
       "\n",
       "    .dataframe thead th {\n",
       "        text-align: right;\n",
       "    }\n",
       "</style>\n",
       "<table border=\"1\" class=\"dataframe\">\n",
       "  <thead>\n",
       "    <tr style=\"text-align: right;\">\n",
       "      <th></th>\n",
       "      <th></th>\n",
       "      <th>category</th>\n",
       "      <th>qty</th>\n",
       "      <th>price</th>\n",
       "      <th>Total_price</th>\n",
       "    </tr>\n",
       "    <tr>\n",
       "      <th>sku_create_date</th>\n",
       "      <th>description</th>\n",
       "      <th></th>\n",
       "      <th></th>\n",
       "      <th></th>\n",
       "      <th></th>\n",
       "    </tr>\n",
       "  </thead>\n",
       "  <tbody>\n",
       "    <tr>\n",
       "      <th>2020-08-26</th>\n",
       "      <th>5YR PROSUPPORT PLUS,</th>\n",
       "      <td>7326</td>\n",
       "      <td>59994</td>\n",
       "      <td>2548.6</td>\n",
       "      <td>152900708.4</td>\n",
       "    </tr>\n",
       "    <tr>\n",
       "      <th>2020-08-24</th>\n",
       "      <th>5YR PROSUPPORT PLUS,</th>\n",
       "      <td>7326</td>\n",
       "      <td>59994</td>\n",
       "      <td>2413.8</td>\n",
       "      <td>144813517.2</td>\n",
       "    </tr>\n",
       "    <tr>\n",
       "      <th>2020-08-17</th>\n",
       "      <th>5YR PROSUPPORT PLUS,</th>\n",
       "      <td>7326</td>\n",
       "      <td>59994</td>\n",
       "      <td>2413.8</td>\n",
       "      <td>144813517.2</td>\n",
       "    </tr>\n",
       "    <tr>\n",
       "      <th rowspan=\"3\" valign=\"top\">2020-08-26</th>\n",
       "      <th>3YR NBD TO 5YR PROSPT 4H,</th>\n",
       "      <td>6105</td>\n",
       "      <td>49995</td>\n",
       "      <td>2776.4</td>\n",
       "      <td>138806118.0</td>\n",
       "    </tr>\n",
       "    <tr>\n",
       "      <th>3YR PROSUPPORT PLUS,</th>\n",
       "      <td>7326</td>\n",
       "      <td>59994</td>\n",
       "      <td>1588.4</td>\n",
       "      <td>95294469.6</td>\n",
       "    </tr>\n",
       "    <tr>\n",
       "      <th>3YR PROSUPPORT MISSION CRITICAL,</th>\n",
       "      <td>6105</td>\n",
       "      <td>69993</td>\n",
       "      <td>1313.9</td>\n",
       "      <td>91963802.7</td>\n",
       "    </tr>\n",
       "    <tr>\n",
       "      <th>2020-08-17</th>\n",
       "      <th>3YR PROSUPPORT PLUS,</th>\n",
       "      <td>7326</td>\n",
       "      <td>59994</td>\n",
       "      <td>1506.6</td>\n",
       "      <td>90386960.4</td>\n",
       "    </tr>\n",
       "    <tr>\n",
       "      <th rowspan=\"2\" valign=\"top\">2020-08-24</th>\n",
       "      <th>3YR PROSUPPORT PLUS,</th>\n",
       "      <td>7326</td>\n",
       "      <td>59994</td>\n",
       "      <td>1506.6</td>\n",
       "      <td>90386960.4</td>\n",
       "    </tr>\n",
       "    <tr>\n",
       "      <th>3YR PROSUPPORT MISSION CRITICAL,</th>\n",
       "      <td>6105</td>\n",
       "      <td>69993</td>\n",
       "      <td>1280.1</td>\n",
       "      <td>89598039.3</td>\n",
       "    </tr>\n",
       "    <tr>\n",
       "      <th>2020-08-17</th>\n",
       "      <th>3YR PROSUPPORT MISSION CRITICAL,</th>\n",
       "      <td>6105</td>\n",
       "      <td>69993</td>\n",
       "      <td>1280.1</td>\n",
       "      <td>89598039.3</td>\n",
       "    </tr>\n",
       "  </tbody>\n",
       "</table>\n",
       "</div>"
      ],
      "text/plain": [
       "                                                  category    qty   price  \\\n",
       "sku_create_date description                                                 \n",
       "2020-08-26      5YR PROSUPPORT PLUS,                  7326  59994  2548.6   \n",
       "2020-08-24      5YR PROSUPPORT PLUS,                  7326  59994  2413.8   \n",
       "2020-08-17      5YR PROSUPPORT PLUS,                  7326  59994  2413.8   \n",
       "2020-08-26      3YR NBD TO 5YR PROSPT 4H,             6105  49995  2776.4   \n",
       "                3YR PROSUPPORT PLUS,                  7326  59994  1588.4   \n",
       "                3YR PROSUPPORT MISSION CRITICAL,      6105  69993  1313.9   \n",
       "2020-08-17      3YR PROSUPPORT PLUS,                  7326  59994  1506.6   \n",
       "2020-08-24      3YR PROSUPPORT PLUS,                  7326  59994  1506.6   \n",
       "                3YR PROSUPPORT MISSION CRITICAL,      6105  69993  1280.1   \n",
       "2020-08-17      3YR PROSUPPORT MISSION CRITICAL,      6105  69993  1280.1   \n",
       "\n",
       "                                                  Total_price  \n",
       "sku_create_date description                                    \n",
       "2020-08-26      5YR PROSUPPORT PLUS,              152900708.4  \n",
       "2020-08-24      5YR PROSUPPORT PLUS,              144813517.2  \n",
       "2020-08-17      5YR PROSUPPORT PLUS,              144813517.2  \n",
       "2020-08-26      3YR NBD TO 5YR PROSPT 4H,         138806118.0  \n",
       "                3YR PROSUPPORT PLUS,               95294469.6  \n",
       "                3YR PROSUPPORT MISSION CRITICAL,   91963802.7  \n",
       "2020-08-17      3YR PROSUPPORT PLUS,               90386960.4  \n",
       "2020-08-24      3YR PROSUPPORT PLUS,               90386960.4  \n",
       "                3YR PROSUPPORT MISSION CRITICAL,   89598039.3  \n",
       "2020-08-17      3YR PROSUPPORT MISSION CRITICAL,   89598039.3  "
      ]
     },
     "execution_count": 12,
     "metadata": {},
     "output_type": "execute_result"
    }
   ],
   "source": [
    "# grouping products by date and product description using sum - it does total sum of price for duplicate products also, but price\n",
    "# shouldn't be summed, which is why we will use mean in next step\n",
    "grouped = df1.groupby(['sku_create_date','description']).sum()\n",
    "\n",
    "# grouping products by date and product description using mean, total sum of price / quantity will give us a value approx. to real price\n",
    "grouped_mean = df1.groupby(['sku_create_date','description']).mean()\n",
    "\n",
    "# then pushing the mean price into sum price dataframe\n",
    "grouped['price'] = grouped_mean['price'].round(1)\n",
    "\n",
    "# making new column \"Total_price\"\n",
    "grouped[\"Total_price\"] = \"\"\n",
    "\n",
    "# \"Total_price\" = quantity X price, for checking which product has most value\n",
    "grouped[\"Total_price\"] = grouped['price'] * grouped ['qty']\n",
    "\n",
    "# Then sorting descending wise to get the max. \"Total priced products\"\n",
    "grouped.sort_values(by = 'Total_price', ascending = False).head(10)"
   ]
  },
  {
   "cell_type": "markdown",
   "metadata": {},
   "source": [
    "<b>\n",
    "    -----------------------------------------------------------------------------------------------------------------------------------------------------------------------------------------------------------------\n",
    "</b>"
   ]
  },
  {
   "cell_type": "markdown",
   "metadata": {},
   "source": [
    "\n"
   ]
  },
  {
   "cell_type": "markdown",
   "metadata": {},
   "source": [
    "<b> Question 3. Which is the product where you have seen decrease in the price? </b>"
   ]
  },
  {
   "cell_type": "markdown",
   "metadata": {},
   "source": [
    "\n"
   ]
  },
  {
   "cell_type": "markdown",
   "metadata": {},
   "source": [
    "<b>\n",
    "Answer - </b>"
   ]
  },
  {
   "cell_type": "code",
   "execution_count": null,
   "metadata": {},
   "outputs": [],
   "source": [
    "# creating an empty list\n",
    "my_list = []\n",
    "\n",
    "# getting the unique names of all products\n",
    "product_name = df1.description.unique() \n",
    "\n",
    "# looping throught all the products\n",
    "for i in range(len(product_name)):\n",
    "    \n",
    "    # storing individual products\n",
    "    data = df1[df1['description'] == product_name[i]];\n",
    "    \n",
    "    # then, iterating through the individual products because the same products have different creation dates\n",
    "    for x in range(len(data)):\n",
    "        \n",
    "        # if the control is on last product then skip\n",
    "        if x == (len(data) - 1):\n",
    "            pass;\n",
    "        \n",
    "        # if not then check if the next product has lower value than the previous\n",
    "        elif data.iloc[x, 8] > data.iloc[x + 1, 8]:\n",
    "            my_list.append(data.iloc[0,5])"
   ]
  },
  {
   "cell_type": "code",
   "execution_count": 19,
   "metadata": {},
   "outputs": [
    {
     "data": {
      "text/plain": [
       "['BLACK 1U SC510T W/ 200W PWS, PFC HS',\n",
       " 'JABRA LINK 280 USB CORD - GN QD, INLINE SW UPGRADABLE CONTROLS',\n",
       " 'LABELWRITER 450 USB 51LPM, MAX 2.31IN PC/MAC',\n",
       " 'SMART BUY DISPLAYPORT ADAPTER, DVI-D FEMALE X DP MALE ON VID CARD',\n",
       " 'GIG POE CONVERTER BUNDLE, SGPOE1040-100 AND TN-SFP-SX',\n",
       " 'EXCHANGE ROLLER KIT, FOR DR-6050C/7550C/9050C',\n",
       " 'T94A01D PENDANT KIT FOR Q60 AND, P55 PTZ SERIES CAMERAS',\n",
       " 'P33-VE PENDANT KIT,',\n",
       " '1FT CAT6 GREEN SNAGLESS PATCH, CABLE',\n",
       " '1FT CAT6 GREEN SNAGLESS PATCH, CABLE']"
      ]
     },
     "execution_count": 19,
     "metadata": {},
     "output_type": "execute_result"
    }
   ],
   "source": [
    "# printing the list with the names of products whose price is decreasing\n",
    "my_list[0:10]"
   ]
  },
  {
   "cell_type": "markdown",
   "metadata": {},
   "source": [
    "<b>\n",
    "    -----------------------------------------------------------------------------------------------------------------------------------------------------------------------------------------------------------------\n",
    "</b>"
   ]
  },
  {
   "cell_type": "markdown",
   "metadata": {},
   "source": [
    "\n"
   ]
  },
  {
   "cell_type": "markdown",
   "metadata": {},
   "source": [
    "<b> Question 4. Which is the product where you have seen increase in the price? </b>"
   ]
  },
  {
   "cell_type": "markdown",
   "metadata": {},
   "source": [
    "\n"
   ]
  },
  {
   "cell_type": "markdown",
   "metadata": {},
   "source": [
    "\n"
   ]
  },
  {
   "cell_type": "markdown",
   "metadata": {},
   "source": [
    "<b>\n",
    "Answer-\n",
    "</b>"
   ]
  },
  {
   "cell_type": "code",
   "execution_count": null,
   "metadata": {},
   "outputs": [],
   "source": [
    "# creating an empty list\n",
    "my_list = []\n",
    "\n",
    "# getting the unique names of all products\n",
    "product_name = df1.description.unique() \n",
    "\n",
    "# looping throught all the products\n",
    "for i in range(len(product_name)):\n",
    "    \n",
    "    # storing individual products\n",
    "    data = df1[df1['description'] == product_name[i]];\n",
    "    \n",
    "    # then, iterating through the individual products because the same products have different creation dates\n",
    "    for x in range(len(data)):\n",
    "        \n",
    "        # if the control is on last product then skip\n",
    "        if x == (len(data) - 1):\n",
    "            pass;\n",
    "        \n",
    "        # if not then check if the next product has higher value than the previous\n",
    "        elif data.iloc[x, 8] < data.iloc[x + 1, 8]:\n",
    "            my_list.append(data.iloc[0,5])\n",
    "            "
   ]
  },
  {
   "cell_type": "code",
   "execution_count": null,
   "metadata": {},
   "outputs": [],
   "source": [
    "my_list[-10:-1]"
   ]
  },
  {
   "cell_type": "markdown",
   "metadata": {},
   "source": [
    "\n",
    "\n",
    "<b>\n",
    "    -----------------------------------------------------------------------------------------------------------------------------------------------------------------------------------------------------------------\n",
    "</b>\n",
    "\n"
   ]
  },
  {
   "cell_type": "markdown",
   "metadata": {},
   "source": [
    "\n"
   ]
  },
  {
   "cell_type": "markdown",
   "metadata": {},
   "source": [
    "<b> Question 5. Which is the top category by price and quantity? </b>"
   ]
  },
  {
   "cell_type": "markdown",
   "metadata": {},
   "source": [
    "\n"
   ]
  },
  {
   "cell_type": "markdown",
   "metadata": {},
   "source": [
    "\n"
   ]
  },
  {
   "cell_type": "markdown",
   "metadata": {},
   "source": [
    "<b>\n",
    "Answer - \n",
    "</b>"
   ]
  },
  {
   "cell_type": "code",
   "execution_count": null,
   "metadata": {},
   "outputs": [],
   "source": [
    "# top category with max. price\n",
    "df1.sort_values(by = 'price', ascending= False).head(1)"
   ]
  },
  {
   "cell_type": "code",
   "execution_count": null,
   "metadata": {},
   "outputs": [],
   "source": [
    "# top categor with max quantity\n",
    "df1.sort_values(by = 'qty', ascending= False).head(1)"
   ]
  },
  {
   "cell_type": "markdown",
   "metadata": {},
   "source": [
    "\n"
   ]
  },
  {
   "cell_type": "markdown",
   "metadata": {},
   "source": [
    "<b> OR </b>"
   ]
  },
  {
   "cell_type": "markdown",
   "metadata": {},
   "source": [
    "\n",
    "\n"
   ]
  },
  {
   "cell_type": "code",
   "execution_count": null,
   "metadata": {},
   "outputs": [],
   "source": [
    "# top category with max (price X quantity)\n",
    "grouped.sort_values(by = 'Total_price' , ascending = False).head(1)"
   ]
  },
  {
   "cell_type": "markdown",
   "metadata": {},
   "source": [
    "\n"
   ]
  },
  {
   "cell_type": "markdown",
   "metadata": {},
   "source": [
    "\n",
    "\n",
    "<b>\n",
    "    -----------------------------------------------------------------------------------------------------------------------------------------------------------------------------------------------------------------\n",
    "</b>\n",
    "\n",
    "\n",
    "\n"
   ]
  },
  {
   "cell_type": "markdown",
   "metadata": {},
   "source": [
    "\n"
   ]
  },
  {
   "cell_type": "markdown",
   "metadata": {},
   "source": [
    "\n",
    "<b> Question 6. Which products are aging? </b>"
   ]
  },
  {
   "cell_type": "markdown",
   "metadata": {},
   "source": [
    "\n"
   ]
  },
  {
   "cell_type": "markdown",
   "metadata": {},
   "source": [
    "\n"
   ]
  },
  {
   "cell_type": "markdown",
   "metadata": {},
   "source": [
    "<b>\n",
    "Answer - \n",
    "</b>"
   ]
  },
  {
   "cell_type": "code",
   "execution_count": null,
   "metadata": {},
   "outputs": [],
   "source": [
    "# creating an empty list\n",
    "my_list = []\n",
    "\n",
    "# getting the unique names of all products\n",
    "product_name = df1.description.unique() \n",
    "\n",
    "# looping throught all the products\n",
    "for i in range(len(product_name)):\n",
    "    \n",
    "    # storing individual products\n",
    "    data = df1[df1['description'] == product_name[i]];\n",
    "    \n",
    "    #if the product has more than 1 entries that means it is available for more than 1 day and hence, it is aging\n",
    "    if len(data) == 1:\n",
    "        pass\n",
    "    else:\n",
    "        my_list.append(product_name[i])\n",
    "            "
   ]
  },
  {
   "cell_type": "code",
   "execution_count": null,
   "metadata": {},
   "outputs": [],
   "source": [
    "print(\"\\nAging products are: \") \n",
    "my_list[0:10]"
   ]
  },
  {
   "cell_type": "markdown",
   "metadata": {},
   "source": [
    "\n",
    "\n",
    "\n",
    "<b>\n",
    "    -----------------------------------------------------------------------------------------------------------------------------------------------------------------------------------------------------------------\n",
    "</b>\n",
    "\n",
    "\n",
    "\n"
   ]
  },
  {
   "cell_type": "markdown",
   "metadata": {},
   "source": [
    "\n"
   ]
  },
  {
   "cell_type": "markdown",
   "metadata": {},
   "source": [
    "\n"
   ]
  },
  {
   "cell_type": "markdown",
   "metadata": {},
   "source": [
    "<b> Question 7. How to Decrease the product aging?\n",
    "  \n",
    "</b>"
   ]
  },
  {
   "cell_type": "markdown",
   "metadata": {},
   "source": [
    "<b> Answer - I did not understand this question. </b>"
   ]
  },
  {
   "cell_type": "markdown",
   "metadata": {},
   "source": [
    "\n"
   ]
  },
  {
   "cell_type": "markdown",
   "metadata": {},
   "source": [
    "\n",
    "\n",
    "\n",
    "<b>\n",
    "    -----------------------------------------------------------------------------------------------------------------------------------------------------------------------------------------------------------------\n",
    "</b>\n",
    "\n",
    "\n",
    "\n"
   ]
  },
  {
   "cell_type": "markdown",
   "metadata": {},
   "source": [
    "\n",
    "\n",
    "\n",
    "\n",
    "<b>\n",
    "    -----------------------------------------------------------------------------------------------------------------------------------------------------------------------------------------------------------------\n",
    "</b>\n",
    "\n",
    "\n",
    "\n"
   ]
  },
  {
   "cell_type": "markdown",
   "metadata": {},
   "source": [
    "\n"
   ]
  },
  {
   "cell_type": "markdown",
   "metadata": {},
   "source": [
    "\n"
   ]
  },
  {
   "cell_type": "markdown",
   "metadata": {},
   "source": [
    "#                                             <b> For Data Not In Stock </b>"
   ]
  },
  {
   "cell_type": "markdown",
   "metadata": {},
   "source": [
    "\n"
   ]
  },
  {
   "cell_type": "markdown",
   "metadata": {},
   "source": [
    "\n"
   ]
  },
  {
   "cell_type": "code",
   "execution_count": null,
   "metadata": {},
   "outputs": [],
   "source": [
    "# filtering products that does not have stock available\n",
    "df2 = df[df[\"status\"] == \"No Stock\"]"
   ]
  },
  {
   "cell_type": "markdown",
   "metadata": {},
   "source": [
    "\n"
   ]
  },
  {
   "cell_type": "markdown",
   "metadata": {},
   "source": [
    "\n"
   ]
  },
  {
   "cell_type": "markdown",
   "metadata": {},
   "source": [
    "<b> 1. Which are the top Manufacturers with price, quantity,\n",
    "</b>"
   ]
  },
  {
   "cell_type": "markdown",
   "metadata": {},
   "source": [
    "<b> Answer - </b>"
   ]
  },
  {
   "cell_type": "code",
   "execution_count": null,
   "metadata": {},
   "outputs": [],
   "source": [
    "x = df2.duplicated(subset = [\"manufacturer\",\"price\", \"description\"])\n",
    "df2[x].sort_values(by = 'price', ascending= False).head(3)"
   ]
  },
  {
   "cell_type": "markdown",
   "metadata": {},
   "source": [
    "# "
   ]
  },
  {
   "cell_type": "code",
   "execution_count": null,
   "metadata": {},
   "outputs": [],
   "source": [
    "x = df2.duplicated(subset = [\"manufacturer\",\"price\", \"description\"])\n",
    "df2[x].sort_values(by = 'qty', ascending= False).head(3)"
   ]
  },
  {
   "cell_type": "markdown",
   "metadata": {},
   "source": [
    "# "
   ]
  },
  {
   "cell_type": "markdown",
   "metadata": {},
   "source": [
    "\n",
    "\n",
    "\n",
    "\n",
    "<b>\n",
    "    -----------------------------------------------------------------------------------------------------------------------------------------------------------------------------------------------------------------\n",
    "</b>\n",
    "\n",
    "\n",
    "\n"
   ]
  },
  {
   "cell_type": "markdown",
   "metadata": {},
   "source": [
    "# "
   ]
  },
  {
   "cell_type": "markdown",
   "metadata": {},
   "source": [
    "<b> Question 2. Which are the most profitable products? </b>"
   ]
  },
  {
   "cell_type": "markdown",
   "metadata": {},
   "source": [
    "<b> Answer - </b>"
   ]
  },
  {
   "cell_type": "markdown",
   "metadata": {},
   "source": [
    "#### "
   ]
  },
  {
   "cell_type": "markdown",
   "metadata": {},
   "source": [
    "#### As the qty is 0 in all the \"No Stock\" products, the most profitable products will be with the highest price"
   ]
  },
  {
   "cell_type": "code",
   "execution_count": null,
   "metadata": {},
   "outputs": [],
   "source": [
    "x = df2.duplicated(subset = [\"description\",\"price\"])\n",
    "\n",
    "df2[x].sort_values(by = \"price\", ascending = False).head(5)"
   ]
  },
  {
   "cell_type": "markdown",
   "metadata": {},
   "source": [
    "# "
   ]
  },
  {
   "cell_type": "markdown",
   "metadata": {},
   "source": [
    "\n",
    "\n",
    "\n",
    "\n",
    "<b>\n",
    "    -----------------------------------------------------------------------------------------------------------------------------------------------------------------------------------------------------------------\n",
    "</b>\n",
    "\n",
    "\n",
    "\n"
   ]
  },
  {
   "cell_type": "markdown",
   "metadata": {},
   "source": [
    "# "
   ]
  },
  {
   "cell_type": "markdown",
   "metadata": {},
   "source": [
    "<b> Question 3. Which is the product where you have seen decrease in the price?\n",
    "</b>"
   ]
  },
  {
   "cell_type": "markdown",
   "metadata": {},
   "source": [
    "<b> Answer - </b>"
   ]
  },
  {
   "cell_type": "markdown",
   "metadata": {},
   "source": [
    "# "
   ]
  },
  {
   "cell_type": "code",
   "execution_count": null,
   "metadata": {},
   "outputs": [],
   "source": [
    "# creating an empty list\n",
    "my_list = []\n",
    "\n",
    "# getting the unique names of all products\n",
    "product_name = df2.description.unique()     \n",
    "\n",
    "# looping throught all the products\n",
    "for i in range(len(product_name)):\n",
    "    \n",
    "    # storing individual products\n",
    "    data = df2[df2['description'] == product_name[i]];\n",
    "    \n",
    "    # then, iterating through the individual products because the same products have different creation dates\n",
    "    for x in range(len(data)):\n",
    "        \n",
    "        # if the control is on last product then skip\n",
    "        if x == (len(data) - 1):\n",
    "            pass;\n",
    "        \n",
    "        # if not then check if the next product has lower value than the previous\n",
    "        elif data.iloc[x, 8] > data.iloc[x + 1, 8]:\n",
    "            my_list.append(data.iloc[0,5])"
   ]
  },
  {
   "cell_type": "code",
   "execution_count": null,
   "metadata": {},
   "outputs": [],
   "source": [
    "print(\"\\nProducts that are dropping in price are:\")\n",
    "my_list[0:10]"
   ]
  },
  {
   "cell_type": "markdown",
   "metadata": {},
   "source": [
    "# "
   ]
  },
  {
   "cell_type": "markdown",
   "metadata": {},
   "source": [
    "\n",
    "\n",
    "\n",
    "\n",
    "<b>\n",
    "    -----------------------------------------------------------------------------------------------------------------------------------------------------------------------------------------------------------------\n",
    "</b>\n",
    "\n",
    "\n",
    "\n"
   ]
  },
  {
   "cell_type": "markdown",
   "metadata": {},
   "source": [
    "# "
   ]
  },
  {
   "cell_type": "markdown",
   "metadata": {},
   "source": [
    "<b> Question 4. Which is the product where you have seen increase in the price? </b>"
   ]
  },
  {
   "cell_type": "markdown",
   "metadata": {},
   "source": [
    "<b> Answer - </b>"
   ]
  },
  {
   "cell_type": "markdown",
   "metadata": {},
   "source": [
    "# "
   ]
  },
  {
   "cell_type": "code",
   "execution_count": null,
   "metadata": {},
   "outputs": [],
   "source": [
    "# creating an empty list\n",
    "my_list = []\n",
    "\n",
    "# getting the unique names of all products\n",
    "product_name = df2.description.unique() \n",
    "\n",
    "# looping throught all the products\n",
    "for i in range(len(product_name)):\n",
    "    \n",
    "    # storing individual products\n",
    "    data = df2[df2['description'] == product_name[i]];\n",
    "    \n",
    "    # then, iterating through the individual products because the same products have different creation dates\n",
    "    for x in range(len(data)):\n",
    "        \n",
    "        # if the control is on last product then skip\n",
    "        if x == (len(data) - 1):\n",
    "            pass;\n",
    "        \n",
    "        # if not then check if the next product has higher value than the previous\n",
    "        elif data.iloc[x, 8] < data.iloc[x + 1, 8]:\n",
    "            my_list.append(data.iloc[0,5])\n",
    "            "
   ]
  },
  {
   "cell_type": "code",
   "execution_count": null,
   "metadata": {},
   "outputs": [],
   "source": [
    "print(\"\\nProducts which are increasing in price are:\")\n",
    "my_list[0:10]"
   ]
  },
  {
   "cell_type": "markdown",
   "metadata": {},
   "source": [
    "# "
   ]
  },
  {
   "cell_type": "markdown",
   "metadata": {},
   "source": [
    "\n",
    "\n",
    "\n",
    "\n",
    "<b>\n",
    "    -----------------------------------------------------------------------------------------------------------------------------------------------------------------------------------------------------------------\n",
    "</b>\n",
    "\n",
    "\n",
    "\n"
   ]
  },
  {
   "cell_type": "markdown",
   "metadata": {},
   "source": [
    "# "
   ]
  },
  {
   "cell_type": "markdown",
   "metadata": {},
   "source": [
    "#### Question 5. Which is the top category by price and quantity?\n"
   ]
  },
  {
   "cell_type": "markdown",
   "metadata": {},
   "source": [
    "#### Answer -"
   ]
  },
  {
   "cell_type": "markdown",
   "metadata": {},
   "source": [
    "# "
   ]
  },
  {
   "cell_type": "markdown",
   "metadata": {},
   "source": [
    "#### As there is no quantity present in the data for \"No Stock available\" products, we can't find top category by price \"and\" quantity, but we can find top category with only price."
   ]
  },
  {
   "cell_type": "code",
   "execution_count": null,
   "metadata": {},
   "outputs": [],
   "source": [
    "x = df2.duplicated(subset = [\"description\",\"price\"])\n",
    "df2[x].sort_values(by='price', ascending =False).head(3)"
   ]
  },
  {
   "cell_type": "code",
   "execution_count": null,
   "metadata": {},
   "outputs": [],
   "source": []
  },
  {
   "cell_type": "code",
   "execution_count": null,
   "metadata": {},
   "outputs": [],
   "source": []
  }
 ],
 "metadata": {
  "kernelspec": {
   "display_name": "Python 3",
   "language": "python",
   "name": "python3"
  },
  "language_info": {
   "codemirror_mode": {
    "name": "ipython",
    "version": 3
   },
   "file_extension": ".py",
   "mimetype": "text/x-python",
   "name": "python",
   "nbconvert_exporter": "python",
   "pygments_lexer": "ipython3",
   "version": "3.8.5"
  }
 },
 "nbformat": 4,
 "nbformat_minor": 4
}
