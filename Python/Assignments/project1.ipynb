{
 "cells": [
  {
   "cell_type": "markdown",
   "metadata": {},
   "source": [
    "Create a program in Python, to check if a given number is prime.\n",
    "\n",
    "Add a function to take user input.\n",
    "\n",
    "Also must have a function where the number is predetermined.\n",
    "\n",
    "Use if...else\n",
    "\n",
    "Use loops (Which one? Its your job to think)\n",
    "\n",
    "If the number is prime or not should be printed as an output.\n",
    "\n",
    "I need interpretation as comments at each chunk of code.\n",
    "\n"
   ]
  },
  {
   "cell_type": "code",
   "execution_count": 44,
   "metadata": {},
   "outputs": [
    {
     "name": "stdout",
     "output_type": "stream",
     "text": [
      "5\n",
      "The number 5 is prime!\n"
     ]
    }
   ],
   "source": [
    "# function to take int input from user\n",
    "def user_input():\n",
    "    userInput = int(input());\n",
    "    return userInput; # returns the inputed number where ever this function is called\n",
    "\n",
    "# default num if user does not input any number\n",
    "def default_num():\n",
    "    num = 5;\n",
    "    return num; # returns num = 5\n",
    "\n",
    "\n",
    "# function to check where a num is prime or not\n",
    "# keeping the default value as 5\n",
    "def prime_num(num = default_num()):\n",
    "    \n",
    "    # Using status variable to have a eye on if the number is getting divided by any of the numbers smaller than the actual number\n",
    "    # by default keeping it to 'False' means 'num is prime'\n",
    "    status = False;\n",
    "    \n",
    "    # if inputed num is greater than 1 then proceed or else stop the iteration\n",
    "    if(num > 1):\n",
    "        \n",
    "        # checking if the num is divisible by any of the nums smaller than the actual number\n",
    "        for i in range(2,num):\n",
    "            if (num % i) == 0:\n",
    "                \n",
    "                # if divisible then change the status to True\n",
    "                status = True;\n",
    "                \n",
    "                # break to stop to go to else\n",
    "                break;\n",
    "                \n",
    "\n",
    "    # else to print another num if num == 1            \n",
    "    else:\n",
    "        print(\"Please enter a number greater than 1.\");\n",
    "       \n",
    "    \n",
    "    # using status to give output\n",
    "    if (num != 1):\n",
    "        if status == True:\n",
    "            print(\"The number\",num, \"is not prime!\")\n",
    "        else:\n",
    "            print(\"The number\",num, \"is prime!\")\n",
    "\n",
    "    \n",
    "    \n",
    "#calling the main function to check if the num is prime or not.        \n",
    "prime_num(user_input());    \n"
   ]
  },
  {
   "cell_type": "code",
   "execution_count": null,
   "metadata": {},
   "outputs": [],
   "source": []
  }
 ],
 "metadata": {
  "kernelspec": {
   "display_name": "Python 3",
   "language": "python",
   "name": "python3"
  },
  "language_info": {
   "codemirror_mode": {
    "name": "ipython",
    "version": 3
   },
   "file_extension": ".py",
   "mimetype": "text/x-python",
   "name": "python",
   "nbconvert_exporter": "python",
   "pygments_lexer": "ipython3",
   "version": "3.8.5"
  }
 },
 "nbformat": 4,
 "nbformat_minor": 4
}
